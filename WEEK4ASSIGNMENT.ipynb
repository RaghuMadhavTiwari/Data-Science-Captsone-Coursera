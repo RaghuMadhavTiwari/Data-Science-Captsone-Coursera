{
 "cells": [
  {
   "cell_type": "markdown",
   "metadata": {},
   "source": [
    "<h1>FINAL ASSIGNMENT | COURSERA CAPSTONE<h1>"
   ]
  },
  {
   "cell_type": "markdown",
   "metadata": {},
   "source": [
    "<h2>FINDING A SUITABLE PLACE TO OPEN AN INDIAN RESTAURANT IN TORONTO<h2>"
   ]
  },
  {
   "cell_type": "markdown",
   "metadata": {},
   "source": [
    "<h3>INTRODUCTION <h3>\n",
    "IN THIS FINAL PROJECT I WILL BE EXPLORING DIFFERENT LOCATIONS OF TORONTO, TO FIND THE MOST APPROPRIATE LOCATION TO OPEN AN INDIAN RESTRAUNT.\n",
    "ALTHOUGH ANY RESTRAUNT WITH GOOD FOOD AND SERVICES WILL END UP WELL, BUT THIS ANALYSY HELPS THE OWNER OF THE INDIAN RESTRAUNT TO FIND THE MOST SUITED LOCATION IN TORONTO."
   ]
  },
  {
   "cell_type": "markdown",
   "metadata": {},
   "source": [
    "<h3>BUSINESS PROPOSAL<h3>\n",
    "THE OBJECTIVE OF THIS CAPSTONE PROJECT IS TO FIND THE MOST SUITABLE LOCATION FOR THE OWNER TO OPEN AN INDIAN RESTAURANT WITH THE HELP OF DATA ANALISYS TECHNIQUES AND MACHINELEARNING TECHNIQUES LIKE CLUSTERING.\n",
    "THE QUESTION ANSWERED IN THIS PROJECT IS: WHERE SHOULD A NEW INDIAN RESTAURANT IN TORONTO BE INAURGATED?\n"
   ]
  },
  {
   "cell_type": "markdown",
   "metadata": {},
   "source": [
    "<h3>TARGET AUDIENCE<H3>\n",
    "ANY BUSINESS MAN/ ENTREPRENUER LOOKING TO OPEN A INDIAN RESTRAUNT IN TORONTO"
   ]
  },
  {
   "cell_type": "markdown",
   "metadata": {},
   "source": [
    "<H3>DATA NEEDED:<h3>\n",
    "    <h4>1. LIST OF NEIGHBOURHOODS IN TORONTO<h4>\n",
    "    2.LATITUDE AND LONGITUDE OF THESE NEIGHBOURS\n",
    "      "
   ]
  },
  {
   "cell_type": "markdown",
   "metadata": {},
   "source": [
    "<H3>EXTRACTING DATA :<H3>\n",
    "    <H4>1. SCRAPPING DATA VIA WIKIPEDIA<H4>\n",
    "    <H4>2. GETTING LATITUDE AND LONGITUDE DATA OF THESE NEIGHBOURHOODS VIA GEOCODERPACKAGE<H4>\n",
    "    <H4>3. USING FOURSQUARE API TO GET DATA RELATED TO THESE NEIGHBOURHOODS    <H4>\n"
   ]
  },
  {
   "cell_type": "code",
   "execution_count": null,
   "metadata": {},
   "outputs": [],
   "source": []
  }
 ],
 "metadata": {
  "kernelspec": {
   "display_name": "Python",
   "language": "python",
   "name": "conda-env-python-py"
  },
  "language_info": {
   "codemirror_mode": {
    "name": "ipython",
    "version": 3
   },
   "file_extension": ".py",
   "mimetype": "text/x-python",
   "name": "python",
   "nbconvert_exporter": "python",
   "pygments_lexer": "ipython3",
   "version": "3.6.11"
  }
 },
 "nbformat": 4,
 "nbformat_minor": 4
}
